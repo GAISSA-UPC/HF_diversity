{
 "cells": [
  {
   "cell_type": "markdown",
   "metadata": {},
   "source": [
    "# Types of commits exploration\n",
    "Notebook to generate a dataset (*women_commits.csv*) used to explore the commits done by women."
   ]
  },
  {
   "cell_type": "code",
   "execution_count": null,
   "metadata": {},
   "outputs": [
    {
     "name": "stdout",
     "output_type": "stream",
     "text": [
      "164          Update README.md\n",
      "165          Update README.md\n",
      "166          Update README.md\n",
      "167          Update README.md\n",
      "168          Update README.md\n",
      "                ...          \n",
      "7403           initial commit\n",
      "7735    support GPU inference\n",
      "7737                 fix typo\n",
      "7740            update readme\n",
      "7741      update for pipeline\n",
      "Name: title, Length: 202, dtype: object\n"
     ]
    }
   ],
   "source": [
    "import pandas as pd\n",
    "df1 = pd.read_csv('commit_data.csv')\n",
    "df2 = pd.read_csv('author_commits_gender.csv')\n",
    "\n",
    "# Filtering by gender (keeping women only)\n",
    "female_authors = df2[df2['gender'] == 'female']['author']\n",
    "filtered_titles = df1[df1['authors'].isin(female_authors)]['title']\n",
    "\n",
    "print(filtered_titles)"
   ]
  },
  {
   "cell_type": "code",
   "execution_count": 3,
   "metadata": {},
   "outputs": [],
   "source": [
    "filtered_titles.to_csv('women_commits.csv', index=False)"
   ]
  }
 ],
 "metadata": {
  "kernelspec": {
   "display_name": "Python 3",
   "language": "python",
   "name": "python3"
  },
  "language_info": {
   "codemirror_mode": {
    "name": "ipython",
    "version": 3
   },
   "file_extension": ".py",
   "mimetype": "text/x-python",
   "name": "python",
   "nbconvert_exporter": "python",
   "pygments_lexer": "ipython3",
   "version": "3.10.12"
  }
 },
 "nbformat": 4,
 "nbformat_minor": 2
}
